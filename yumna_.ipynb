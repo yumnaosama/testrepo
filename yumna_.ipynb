{
  "nbformat": 4,
  "nbformat_minor": 0,
  "metadata": {
    "colab": {
      "provenance": []
    },
    "kernelspec": {
      "name": "python3",
      "display_name": "Python 3"
    },
    "language_info": {
      "name": "python"
    }
  },
  "cells": [
    {
      "cell_type": "code",
      "source": [
        "# Question 1 :\n",
        "# print number of ocurences for \"A\" character\n",
        "s = \"AAAVVDDEGAFASDFAA\"\n",
        "print(s.count(\"A\"))"
      ],
      "metadata": {
        "id": "EZy13tt1TrX0",
        "colab": {
          "base_uri": "https://localhost:8080/"
        },
        "outputId": "46e978c6-9654-495c-9a50-31e2a304940f"
      },
      "execution_count": 1,
      "outputs": [
        {
          "output_type": "stream",
          "name": "stdout",
          "text": [
            "7\n"
          ]
        }
      ]
    },
    {
      "cell_type": "code",
      "source": [
        "# Question 2 :\n",
        "\n",
        "# If you have the follwing path in src variable\n",
        "\n",
        "src = \"C:/Folder1/Folder2/Folder3/data.csv\"\n",
        "\n",
        "# how can you extract the previous folder of the folder that contain a file data.csv\n",
        "\n",
        "# Example 1:\n",
        " # src = \"C:/Folder1/Folder2/Folder3/data.csv\"\n",
        " # output : C:/Folder1/Folder2\n",
        "\n",
        "indexof2=src.index(\"2\")\n",
        "print(indexof2)\n",
        "print(src[:18])\n",
        "# Example 2:\n",
        " # src = \"C:/Folder1/Folder2/Folder3/Folder4/data.csv\"\n",
        " # output : C:/Folder1/Folder2/Folder3\n",
        "\n"
      ],
      "metadata": {
        "id": "Q4BqwLx7jRPz",
        "colab": {
          "base_uri": "https://localhost:8080/"
        },
        "outputId": "d9dc011d-ab09-4d2d-cfa5-cbefa991c7e1"
      },
      "execution_count": 4,
      "outputs": [
        {
          "output_type": "stream",
          "name": "stdout",
          "text": [
            "17\n",
            "C:/Folder1/Folder2\n"
          ]
        }
      ]
    },
    {
      "cell_type": "code",
      "source": [],
      "metadata": {
        "id": "eCJANQetes_-"
      },
      "execution_count": null,
      "outputs": []
    },
    {
      "cell_type": "code",
      "source": [
        "# Question 3 :\n",
        "# If you have the following paragraph\n",
        "# 1- Find the longest word and it's length\n",
        "# 2- Remove/Clean all numbers\n",
        "paragraph = \"\"\"Ronaldo still has one more year left to run on the contract\n",
        "               he signed with United in August 2021 and there is an option for that deal to be extended by a further 12 months.\n",
        "               The 37 year old has not taken part in any form of pre season training with United this\n",
        "               summer due to personal reasons Jul 18, 2022\"\"\"\n",
        "longest_word_lenght=-1\n",
        "longestword=\"\"\n",
        "paragraph=paragraph.split()\n",
        "to_remove = ['37', '12', '2021', '18', '2022', '18,']\n",
        "paragraph = [word for word in paragraph if word not in to_remove]\n",
        "print(paragraph)\n",
        "for i in paragraph:\n",
        "  if longest_word_lenght<len(i):\n",
        "     longest_word_length= len(i)\n",
        "     longestword= i\n",
        "print(\"The longest word :-\",longestword)\n",
        "print(\"The lenght of longest word id\",len(longestword))\n",
        "\n",
        "\n",
        "\n",
        "\n",
        "\n"
      ],
      "metadata": {
        "id": "W-0OVUivqDXE",
        "colab": {
          "base_uri": "https://localhost:8080/"
        },
        "outputId": "ef9eb826-ab20-4d97-9186-5fda3336f721"
      },
      "execution_count": 133,
      "outputs": [
        {
          "output_type": "stream",
          "name": "stdout",
          "text": [
            "['Ronaldo', 'still', 'has', 'one', 'more', 'year', 'left', 'to', 'run', 'on', 'the', 'contract', 'he', 'signed', 'with', 'United', 'in', 'August', 'and', 'there', 'is', 'an', 'option', 'for', 'that', 'deal', 'to', 'be', 'extended', 'by', 'a', 'further', 'months.', 'The', 'year', 'old', 'has', 'not', 'taken', 'part', 'in', 'any', 'form', 'of', 'pre', 'season', 'training', 'with', 'United', 'this', 'summer', 'due', 'to', 'personal', 'reasons', 'Jul']\n",
            "The longest word :- Jul\n",
            "The lenght of longest word id 3\n"
          ]
        }
      ]
    },
    {
      "cell_type": "code",
      "source": [
        "# Question 4\n",
        "# if you have the following list\n",
        "nums = [1,2,4,5,5,5,7,5,7,4,2,4]\n",
        "nums2=[]\n",
        "for i in nums:\n",
        "  if i not in nums2:\n",
        "    nums2.append(i)\n",
        "print(nums2)\n",
        "for i in nums[:]:\n",
        "  if nums.count(i)>1:\n",
        "      nums.remove(i)\n",
        "print(nums)\n",
        "\n",
        "# 1- Remove redundant numbers in list without using set()\n",
        "# 2- Remove redundant numbers in-place ( modify on nums list) without using set()"
      ],
      "metadata": {
        "id": "rbZ7htsExZg6",
        "colab": {
          "base_uri": "https://localhost:8080/"
        },
        "outputId": "2aabed8b-f70f-41c4-b203-7172a31c532e"
      },
      "execution_count": 4,
      "outputs": [
        {
          "output_type": "stream",
          "name": "stdout",
          "text": [
            "[1, 2, 4, 5, 7]\n",
            "[1, 5, 7, 2, 4]\n"
          ]
        }
      ]
    },
    {
      "cell_type": "code",
      "source": [
        "# Question 5\n",
        "# If you have the following two lists\n",
        "l1 = [1,1,3,5,6,7,8,9,9]\n",
        "l2 = [1,2,4,5,6,8]\n",
        "newlist=[]\n",
        "for i in l2:\n",
        "  for j in l1:\n",
        "    if i==j:\n",
        "       if i not in newlist:\n",
        "           newlist.append(i)\n",
        "\n",
        "print(list(newlist))\n",
        "# print out set of intersected items\n",
        "# output : [1,5,6,8]"
      ],
      "metadata": {
        "id": "h5IjSRAMCX1J",
        "colab": {
          "base_uri": "https://localhost:8080/"
        },
        "outputId": "cc3754d9-225a-47e3-b262-c4b25bfff655"
      },
      "execution_count": 110,
      "outputs": [
        {
          "output_type": "stream",
          "name": "stdout",
          "text": [
            "[1, 5, 6, 8]\n"
          ]
        }
      ]
    },
    {
      "cell_type": "code",
      "source": [
        "# Question 6\n",
        "# If you have the following list\n",
        "\n",
        "L = ['A', ['BB', ['CCC', 'DDD'], 'EE', (\"IIII\", \"JJJJ\", (\"KKKKK\", \"LLLLL\")), 'FF'], 'G', 'H']\n",
        "\n",
        "# Write python code to extract the following items from list\n",
        "print(L[1][0])\n",
        "print(L[2])\n",
        "print(L[1][1][0])\n",
        "print(L[1][1])\n",
        "print(L[1][3][0])\n",
        "print(L[1][3][2][1])\n",
        "print(L[1][3])\n",
        "print(L[1][1:3])\n",
        "print(L[1][2:-1])\n",
        "# 1- BB\n",
        "# 2- G\n",
        "# 3- CCC\n",
        "# 4- ['CCC', 'DDD']\n",
        "# 5- IIII\n",
        "# 6- LLLLL\n",
        "# 7- (\"IIII\", \"JJJJ\", (\"KKKKK\", \"LLLLL\"))\n",
        "# 8- ['CCC', 'DDD'], 'EE'\n",
        "# 9- [['CCC', 'DDD'], (\"IIII\", \"JJJJ\", (\"KKKKK\", \"LLLLL\"))]\n",
        "\n"
      ],
      "metadata": {
        "id": "OblBObGwI8Vi",
        "colab": {
          "base_uri": "https://localhost:8080/"
        },
        "outputId": "b0f00678-62d5-4488-dce6-4fa549105051"
      },
      "execution_count": 29,
      "outputs": [
        {
          "output_type": "stream",
          "name": "stdout",
          "text": [
            "BB\n",
            "G\n",
            "CCC\n",
            "['CCC', 'DDD']\n",
            "IIII\n",
            "LLLLL\n",
            "('IIII', 'JJJJ', ('KKKKK', 'LLLLL'))\n",
            "[['CCC', 'DDD'], 'EE']\n",
            "['EE', ('IIII', 'JJJJ', ('KKKKK', 'LLLLL'))]\n"
          ]
        }
      ]
    },
    {
      "cell_type": "code",
      "source": [],
      "metadata": {
        "id": "OmKrGb_yKFAB"
      },
      "execution_count": null,
      "outputs": []
    },
    {
      "cell_type": "code",
      "source": [
        "# Question 7\n",
        "\n",
        "# If you have the following list\n",
        "\n",
        "# Write python code to to extract the following items from list\n",
        "\n",
        "# 1- ['A', 'B', 'C']\n",
        "# 2- 'bbbb'\n",
        "# 3- [{'1': 'c'}, {'2': 'cc'}, {'3': 'ccc'}]\n",
        "# 4- 'Amman'\n",
        "# 5- '12343456'\n",
        "# 6- ['+962111111111', '02123456']\n",
        "# 7- 'Jordan-Irbid-str5'\n",
        "listData =[\n",
        "\n",
        "    {\"A\": [\n",
        "        {\"1\": \"a\"},\n",
        "        {\"2\": \"aa\"},\n",
        "        {\"3\": \"aaa\"},\n",
        "        {\"3\": \"aaaa\"}\n",
        "    ]\n",
        "    },\n",
        "{\"B\": [\n",
        "        {\"1\": \"b\"},\n",
        "        {\"2\": \"bb\"},\n",
        "        {\"3\": \"bbb\"},\n",
        "        {\"4\": \"bbbb\"}\n",
        "    ]\n",
        "    }\n",
        "    ,\n",
        "\n",
        "    {\"C\": [\n",
        "        {\"1\": \"c\"},\n",
        "        {\"2\": \"cc\"},\n",
        "        {\"3\": \"ccc\"},\n",
        "        {\"4\": \"cccc\"}\n",
        "    ]\n",
        "    },\n",
        "\n",
        "    {\"info\": {\n",
        "        \"country\": \"Jordan\",\n",
        "        \"city\": \"Amman\",\n",
        "        \"phoneNo\": [\n",
        "            \"+962111111111\",\n",
        "            \"02123456\",\n",
        "            \"12343456\"\n",
        "        ],\n",
        "\n",
        "        \"address\": {\n",
        "            \"address1\": \"Jordan-Amman-str1\",\n",
        "            \"address2\": \"Jordan-Irbid-str5\"\n",
        "        }}\n",
        "\n",
        "    }]\n",
        "\n",
        "##print(listData[:4][0].keys())\n",
        "print(listData[1]['B'][1][\"2\"])\n",
        "print(listData[2]['C'][:4])\n",
        "print(listData[3][\"info\"][\"city\"])\n",
        "print(listData[3][\"info\"][\"phoneNo\"][2])\n",
        "print(listData[3][\"info\"][\"phoneNo\"][:2])\n",
        "print(listData[3][\"info\"][\"address\"][\"address2\"])"
      ],
      "metadata": {
        "id": "SoficaD8-IN4",
        "colab": {
          "base_uri": "https://localhost:8080/"
        },
        "outputId": "ed59b8f4-ef51-4837-d7f1-8e68dca4159c"
      },
      "execution_count": 104,
      "outputs": [
        {
          "output_type": "stream",
          "name": "stdout",
          "text": [
            "bb\n",
            "[{'1': 'c'}, {'2': 'cc'}, {'3': 'ccc'}, {'4': 'cccc'}]\n",
            "Amman\n",
            "12343456\n",
            "['+962111111111', '02123456']\n",
            "Jordan-Irbid-str5\n"
          ]
        }
      ]
    },
    {
      "cell_type": "code",
      "source": [
        "# Question 8\n",
        "# for the following dictionary :\n",
        "\n",
        "\n",
        "# Extract the following info :\n",
        "\n",
        "# 8.1\n",
        "# ['date', 'doctorName', 'doctorId', 'encounterNumber', 'doctorImage']\n",
        "\n",
        "\n",
        "# 8.2\n",
        "# Dr Mahmoud Hammouri\n",
        "\n",
        "dictPatientsData = {\n",
        "  \"timelines\": [\n",
        "    {\n",
        "      \"date\": \"2022-08-07T00:00:00\",\n",
        "      \"doctorName\": \"Dr Mahmoud\",\n",
        "      \"doctorId\": 101034,\n",
        "      \"encounterNumber\": 10443,\n",
        "      \"doctorImage\": \"medical-icon-registration\",\n",
        "      \"projectID\": 70,\n",
        "      \"projectName\": \"WebEMR UAT Hospital\",\n",
        "      \"clinicId\": 1,\n",
        "      \"clinicName\": \"INTERNAL MEDICINE CLINIC\",\n",
        "      \"timeLineEvents\": [\n",
        "        {\n",
        "          \"eventId\": 1,\n",
        "          \"iconClass\": \"fa fa-lg fa-stethoscope\",\n",
        "          \"colorClass\": \"bg-green\",\n",
        "          \"toolTip\": \"OPD Consultation detail\",\n",
        "          \"isDisabled\": False,\n",
        "          \"consulations\": [\n",
        "            {\n",
        "              \"dispalyName\": \"Episode\",\n",
        "              \"doctorID\": 101034,\n",
        "              \"patientID\": 123456,\n",
        "              \"doctorName\": \"Dr Mahmoud Hammouri\",\n",
        "              \"appointmentNo\": 10443,\n",
        "              \"episodeID\": 220011080,\n",
        "              \"admissionNo\": 0,\n",
        "              \"appointmentDate\": \"2022-08-07T00:00:00\",\n",
        "              \"episodeDate\": \"2022-08-07T00:00:00\"\n",
        "            }\n",
        "          ]\n",
        "        }\n",
        "      ]\n",
        "    },\n",
        "    {\n",
        "      \"date\": \"2022-07-31T00:00:00\",\n",
        "      \"doctorName\": \"Dr Mahmoud\",\n",
        "      \"doctorId\": 101044,\n",
        "      \"encounterNumber\": 10424,\n",
        "      \"doctorImage\": \"medical-icon-registration\",\n",
        "      \"projectID\": 70,\n",
        "      \"projectName\": \"WebEMR UAT Hospital\",\n",
        "      \"clinicId\": 31,\n",
        "      \"clinicName\": \"PSYCHIATRY\",\n",
        "      \"timeLineEvents\": [\n",
        "        {\n",
        "          \"eventId\": 1,\n",
        "          \"iconClass\": \"fa fa-lg fa-stethoscope\",\n",
        "          \"colorClass\": \"bg-green\",\n",
        "          \"toolTip\": \"OPD Consultation detail\",\n",
        "          \"isDisabled\": False,\n",
        "          \"consulations\": [\n",
        "            {\n",
        "              \"dispalyName\": \"Episode\",\n",
        "              \"doctorID\": 101044,\n",
        "              \"patientID\": 123456,\n",
        "              \"doctorName\": \"Dr Mahmoud\",\n",
        "              \"appointmentNo\": 10424,\n",
        "              \"episodeID\": 220011072,\n",
        "              \"admissionNo\": 0,\n",
        "              \"appointmentDate\": \"2022-07-31T00:00:00\",\n",
        "              \"episodeDate\": \"2022-07-31T00:00:00\"\n",
        "            }\n",
        "          ]\n",
        "        }\n",
        "      ]\n",
        "    },\n",
        "    {\n",
        "      \"date\": \"2022-07-28T00:00:00\",\n",
        "      \"doctorName\": \"Dr Bahaa\",\n",
        "      \"doctorId\": 101044,\n",
        "      \"encounterNumber\": 10423,\n",
        "      \"doctorImage\": \"medical-icon-registration\",\n",
        "      \"projectID\": 70,\n",
        "      \"projectName\": \"WebEMR UAT Hospital\",\n",
        "      \"clinicId\": 31,\n",
        "      \"clinicName\": \"PSYCHIATRY\",\n",
        "      \"timeLineEvents\": [\n",
        "        {\n",
        "          \"eventId\": 1,\n",
        "          \"iconClass\": \"fa fa-lg fa-stethoscope\",\n",
        "          \"colorClass\": \"bg-green\",\n",
        "          \"toolTip\": \"OPD Consultation detail\",\n",
        "          \"isDisabled\": False,\n",
        "          \"consulations\": [\n",
        "            {\n",
        "              \"dispalyName\": \"Episode\",\n",
        "              \"doctorID\": 101044,\n",
        "              \"patientID\": 123456,\n",
        "              \"doctorName\": \"Dr Bahaa\",\n",
        "              \"appointmentNo\": 10423,\n",
        "              \"episodeID\": 220011072,\n",
        "              \"admissionNo\": 0,\n",
        "              \"appointmentDate\": \"2022-07-28T00:00:00\",\n",
        "              \"episodeDate\": \"2022-07-28T00:00:00\"\n",
        "            }\n",
        "          ]\n",
        "        }\n",
        "      ]\n",
        "    },\n",
        "    {\n",
        "      \"date\": \"2022-06-02T00:00:00\",\n",
        "      \"doctorName\": \"Dr Mahmoud\",\n",
        "      \"doctorId\": 101034,\n",
        "      \"encounterNumber\": 10057,\n",
        "      \"doctorImage\": \"medical-icon-registration\",\n",
        "      \"projectID\": 70,\n",
        "      \"projectName\": \"WebEMR UAT Hospital\",\n",
        "      \"clinicId\": 1,\n",
        "      \"clinicName\": \"INTERNAL MEDICINE CLINIC\",\n",
        "      \"timeLineEvents\": [\n",
        "        {\n",
        "          \"eventId\": 1,\n",
        "          \"iconClass\": \"fa fa-lg fa-stethoscope\",\n",
        "          \"colorClass\": \"bg-green\",\n",
        "          \"toolTip\": \"OPD Consultation detail\",\n",
        "          \"isDisabled\": False,\n",
        "          \"consulations\": [\n",
        "            {\n",
        "              \"dispalyName\": \"Episode\",\n",
        "              \"doctorID\": 101034,\n",
        "              \"patientID\": 123456,\n",
        "              \"doctorName\": \"Dr Mahmoud\",\n",
        "              \"appointmentNo\": 10057,\n",
        "              \"episodeID\": 220011057,\n",
        "              \"admissionNo\": 0,\n",
        "              \"appointmentDate\": \"2022-06-02T00:00:00\",\n",
        "              \"episodeDate\": \"2022-06-02T00:00:00\"\n",
        "            }\n",
        "          ]\n",
        "        }\n",
        "      ]\n",
        "    }\n",
        "  ]\n",
        "}"
      ],
      "metadata": {
        "id": "jP1ZWnghLzIF"
      },
      "execution_count": 51,
      "outputs": []
    },
    {
      "cell_type": "code",
      "source": [
        "print(list(dictPatientsData[\"timelines\"][0].keys())[:5])\n",
        "print(dictPatientsData['timelines'][0]['timeLineEvents'][0]['consulations'][0]['doctorName'])"
      ],
      "metadata": {
        "id": "cv7Bw1_sL8Sv",
        "colab": {
          "base_uri": "https://localhost:8080/"
        },
        "outputId": "c2a8a603-b197-439c-823a-9d2cb41ea47e"
      },
      "execution_count": 105,
      "outputs": [
        {
          "output_type": "stream",
          "name": "stdout",
          "text": [
            "['date', 'doctorName', 'doctorId', 'encounterNumber', 'doctorImage']\n",
            "Dr Mahmoud Hammouri\n"
          ]
        }
      ]
    }
  ]
}